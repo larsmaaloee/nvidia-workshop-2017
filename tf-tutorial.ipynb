{
 "cells": [
  {
   "cell_type": "markdown",
   "metadata": {
    "nbpresent": {
     "id": "1da31d44-7f5f-48c8-82f0-32e85e2bd8a5"
    }
   },
   "source": [
    "## What is Tensorflow?\n",
    "\n",
    "*TF is not a magical machine learning robot*\n",
    "\n",
    "- It has had a wide coverage in the general news media, e.g. in NYT.\n",
    "- It is merely an extensive library for performing numerical computations that are optimized towards running neural networks on GPUs as well as CPUs.\n",
    "- TF is not that different from other numerical libraries based on computational graphs, e.g. Theano."
   ]
  },
  {
   "cell_type": "markdown",
   "metadata": {
    "nbpresent": {
     "id": "ab65fc5a-c5be-445c-94f0-3d4962dc0674"
    }
   },
   "source": [
    "## Computational Graphs\n",
    "\n",
    "Computational graphs can be seen as a nice way of structuring mathematical expressions wrt order of operations, declarative programming. Let us say that we have following expression:\n",
    "\n",
    "$c=\\sqrt{a^2+b^2}\\ .$\n",
    "\n",
    "This equation needs to be performed in the correct order to give the correct result. Therefore we define 3 operations, in this example with fixed values (a=3, b=4):"
   ]
  },
  {
   "cell_type": "code",
   "execution_count": 16,
   "metadata": {
    "collapsed": true,
    "nbpresent": {
     "id": "8adb5b2b-d87f-4cda-9838-9048c47c63ee"
    }
   },
   "outputs": [],
   "source": [
    "import tensorflow as tf"
   ]
  },
  {
   "cell_type": "code",
   "execution_count": 17,
   "metadata": {
    "collapsed": false,
    "nbpresent": {
     "id": "7254a2d5-81ee-4540-b311-acf855602662"
    }
   },
   "outputs": [
    {
     "name": "stdout",
     "output_type": "stream",
     "text": [
      "Tensor(\"Const_21:0\", shape=(), dtype=float32) Tensor(\"Const_22:0\", shape=(), dtype=float32) Tensor(\"Sqrt:0\", shape=(), dtype=float32)\n"
     ]
    }
   ],
   "source": [
    "a = tf.constant(3.0, tf.float32)\n",
    "b = tf.constant(4.0, tf.float32)\n",
    "c = tf.sqrt(tf.add(tf.square(a), tf.square(b)))\n",
    "\n",
    "print(a, b, c)"
   ]
  },
  {
   "cell_type": "code",
   "execution_count": 18,
   "metadata": {
    "collapsed": false
   },
   "outputs": [
    {
     "name": "stdout",
     "output_type": "stream",
     "text": [
      "3.0 4.0 5.0\n"
     ]
    }
   ],
   "source": [
    "sess = tf.Session()\n",
    "print(*sess.run([a, b, c]))"
   ]
  },
  {
   "cell_type": "code",
   "execution_count": 19,
   "metadata": {
    "collapsed": false,
    "nbpresent": {
     "id": "3aecea89-e6a4-45c2-806e-f72ee4630b21"
    }
   },
   "outputs": [
    {
     "name": "stdout",
     "output_type": "stream",
     "text": [
      "Tensor(\"Placeholder_16:0\", dtype=float32) Tensor(\"Placeholder_17:0\", dtype=float32) Tensor(\"Sqrt_1:0\", dtype=float32)\n",
      "4.0 3.0 5.0\n"
     ]
    }
   ],
   "source": [
    "a = tf.placeholder(tf.float32)\n",
    "b = tf.placeholder(tf.float32)\n",
    "c = tf.sqrt(tf.add(tf.square(a), tf.square(b)))\n",
    "\n",
    "print(a, b, c)\n",
    "\n",
    "sess = tf.Session()\n",
    "print(*sess.run([a, b, c], feed_dict={a: 4., b: 3.}))"
   ]
  },
  {
   "cell_type": "code",
   "execution_count": 20,
   "metadata": {
    "collapsed": false,
    "nbpresent": {
     "id": "24c1f5c2-cc87-49d4-bd5c-7750803371ee"
    }
   },
   "outputs": [
    {
     "name": "stdout",
     "output_type": "stream",
     "text": [
      "4.0 4.0 5.65685\n"
     ]
    }
   ],
   "source": [
    "print(*sess.run([a, b, c], feed_dict={a: 4., b: 4.}))"
   ]
  },
  {
   "cell_type": "markdown",
   "metadata": {
    "nbpresent": {
     "id": "04034e25-6c6e-463c-8398-42e6ee82e8ca"
    }
   },
   "source": [
    "### Differentiation"
   ]
  },
  {
   "cell_type": "markdown",
   "metadata": {
    "nbpresent": {
     "id": "cfbfa0bd-c611-48ca-814c-40a06923e76e"
    }
   },
   "source": [
    "Backpropagation is one of the most essential building blocks in deep learning. An optimal way of performing backpropagation is by using the computational graph to take the partial derivatives between variabels. This way we sum over the derivatives of the nodes in the graph.\n",
    "\n",
    "So let's consider a linear regression problem."
   ]
  },
  {
   "cell_type": "code",
   "execution_count": 21,
   "metadata": {
    "collapsed": true,
    "nbpresent": {
     "id": "b8223ccb-9617-4391-bd2a-86834d812fea"
    }
   },
   "outputs": [],
   "source": [
    "W = tf.Variable([.3], tf.float32)\n",
    "b = tf.Variable([-.3], tf.float32)\n",
    "x = tf.placeholder(tf.float32)\n",
    "linear_model = W * x + b"
   ]
  },
  {
   "cell_type": "markdown",
   "metadata": {
    "nbpresent": {
     "id": "8b9f2e50-8f8f-4e8a-8956-26f7e6810438"
    }
   },
   "source": [
    "<img src=\"graph.png\">"
   ]
  },
  {
   "cell_type": "code",
   "execution_count": 22,
   "metadata": {
    "collapsed": true,
    "nbpresent": {
     "id": "74e3c084-3cec-4ba3-81a9-8d1819ce27e4"
    }
   },
   "outputs": [],
   "source": [
    "init = tf.global_variables_initializer()\n",
    "sess.run(init)"
   ]
  },
  {
   "cell_type": "code",
   "execution_count": 23,
   "metadata": {
    "collapsed": false,
    "nbpresent": {
     "id": "613625df-0772-4c3c-9a36-7df55cf2147a"
    }
   },
   "outputs": [
    {
     "name": "stdout",
     "output_type": "stream",
     "text": [
      "[ 0.          0.30000001  0.60000002  0.90000004]\n"
     ]
    }
   ],
   "source": [
    "print(sess.run(linear_model, {x:[1,2,3,4]}))\n"
   ]
  },
  {
   "cell_type": "code",
   "execution_count": 24,
   "metadata": {
    "collapsed": false,
    "nbpresent": {
     "id": "3f691c8e-5ebe-41b9-bbaa-3c5555175656"
    }
   },
   "outputs": [
    {
     "name": "stdout",
     "output_type": "stream",
     "text": [
      "23.66\n"
     ]
    }
   ],
   "source": [
    "y = tf.placeholder(tf.float32)\n",
    "squared_deltas = tf.square(linear_model - y)\n",
    "loss = tf.reduce_sum(squared_deltas)\n",
    "print(sess.run(loss, {x:[1,2,3,4], y:[0,-1,-2,-3]}))"
   ]
  },
  {
   "cell_type": "code",
   "execution_count": 25,
   "metadata": {
    "collapsed": false,
    "nbpresent": {
     "id": "3c5184c0-f5c1-4936-846d-5de2bb2bad55"
    }
   },
   "outputs": [
    {
     "name": "stdout",
     "output_type": "stream",
     "text": [
      "0.0\n"
     ]
    }
   ],
   "source": [
    "fixW = tf.assign(W, [-1.])\n",
    "fixb = tf.assign(b, [1.])\n",
    "sess.run([fixW, fixb])\n",
    "print(sess.run(loss, {x:[1,2,3,4], y:[0,-1,-2,-3]}))"
   ]
  },
  {
   "cell_type": "code",
   "execution_count": 26,
   "metadata": {
    "collapsed": true,
    "nbpresent": {
     "id": "a271c69d-d8da-4452-b3dc-95c83f1098d2"
    }
   },
   "outputs": [],
   "source": [
    "optimizer = tf.train.GradientDescentOptimizer(0.01)\n",
    "train = optimizer.minimize(loss)"
   ]
  },
  {
   "cell_type": "code",
   "execution_count": 27,
   "metadata": {
    "collapsed": false,
    "nbpresent": {
     "id": "35d4d19b-1bb7-48c0-b19c-f3fb20caa76b"
    }
   },
   "outputs": [
    {
     "name": "stdout",
     "output_type": "stream",
     "text": [
      "[array([-0.9999969], dtype=float32), array([ 0.99999082], dtype=float32)]\n"
     ]
    }
   ],
   "source": [
    "sess.run(init) # reset values to incorrect defaults.\n",
    "for i in range(1000):\n",
    "  sess.run(train, {x:[1,2,3,4], y:[0,-1,-2,-3]})\n",
    "\n",
    "print(sess.run([W, b]))"
   ]
  },
  {
   "cell_type": "markdown",
   "metadata": {
    "nbpresent": {
     "id": "4e1e5585-ab39-4a0d-9615-cdd5b93f1391"
    }
   },
   "source": [
    "### More Complex Models?"
   ]
  },
  {
   "cell_type": "code",
   "execution_count": 28,
   "metadata": {
    "collapsed": true,
    "nbpresent": {
     "id": "9c7d4ecc-b190-4e72-bf0f-98ba2dae9598"
    }
   },
   "outputs": [],
   "source": [
    "import numpy as np\n",
    "import matplotlib.pyplot as plt"
   ]
  },
  {
   "cell_type": "code",
   "execution_count": 29,
   "metadata": {
    "collapsed": false,
    "nbpresent": {
     "id": "a8804b83-55b0-4854-b377-a0bff00323b8"
    }
   },
   "outputs": [],
   "source": [
    "def onehot(t, num_classes):\n",
    "    out = np.zeros((t.shape[0], num_classes))\n",
    "    for row, col in enumerate(t):\n",
    "        out[row, col] = 1\n",
    "    return out\n",
    "\n",
    "data = np.load('mnist.npz')\n",
    "num_classes = 10\n",
    "x_train = data['X_train'][:2000].astype('float32')\n",
    "t_train = data['y_train'][:2000]\n",
    "t_train = onehot(t_train, num_classes)\n",
    "\n",
    "x_valid = data['X_valid'][:500].astype('float32')\n",
    "t_valid = data['y_valid'][:500]\n",
    "t_valid = onehot(t_valid, num_classes)\n",
    "\n",
    "x_test = data['X_test'][:500].astype('float32')\n",
    "t_test = data['y_test'][:500]\n",
    "t_test = onehot(t_test, num_classes)"
   ]
  },
  {
   "cell_type": "code",
   "execution_count": 30,
   "metadata": {
    "collapsed": false,
    "nbpresent": {
     "id": "1c0eb187-ea18-45fc-ba69-26c3a287f6f6"
    }
   },
   "outputs": [
    {
     "data": {
      "text/plain": [
       "<matplotlib.figure.Figure at 0x1211b0160>"
      ]
     },
     "metadata": {},
     "output_type": "display_data"
    },
    {
     "data": {
      "image/png": "[encoded data removed]",
      "text/plain": [
       "<matplotlib.figure.Figure at 0x1211b0278>"
      ]
     },
     "metadata": {},
     "output_type": "display_data"
    }
   ],
   "source": [
    "plt.figure(dpi=300)\n",
    "r = 10\n",
    "c = 10\n",
    "i = 0\n",
    "img_out = np.zeros((28 * r, 28 * c))\n",
    "for x in range(r):\n",
    "    for y in range(c):\n",
    "        im = np.reshape(x_train[i], (28, 28))\n",
    "        i += 1\n",
    "        xa, xb = x * 28, (x + 1) * 28\n",
    "        ya, yb = y * 28, (y + 1) * 28\n",
    "        img_out[xa:xb, ya:yb] = im\n",
    "\n",
    "plt.matshow(img_out, cmap=\"gray\")\n",
    "plt.axis('off')\n",
    "plt.show()"
   ]
  },
  {
   "cell_type": "code",
   "execution_count": 32,
   "metadata": {
    "collapsed": true,
    "nbpresent": {
     "id": "a80b611f-5992-4565-a692-2de737b10eb5"
    }
   },
   "outputs": [],
   "source": [
    "x = tf.placeholder(tf.float32, shape=[None, 784])\n",
    "y_ = tf.placeholder(tf.float32, shape=[None, 10])\n",
    "\n",
    "W = tf.Variable(tf.zeros([784, 10]))\n",
    "b = tf.Variable(tf.zeros([10]))"
   ]
  },
  {
   "cell_type": "code",
   "execution_count": 33,
   "metadata": {
    "collapsed": false,
    "nbpresent": {
     "id": "518e79ed-46f7-4b86-ac26-ddecd1ee5178"
    }
   },
   "outputs": [],
   "source": [
    "sess = sess = tf.InteractiveSession()\n",
    "\n",
    "sess.run(tf.global_variables_initializer())\n",
    "\n",
    "y = tf.nn.softmax(tf.matmul(x, W) + b)\n",
    "cross_entropy = tf.reduce_mean(-tf.reduce_sum(y_ * tf.log(y), reduction_indices=[1]))\n",
    "\n",
    "train_step = tf.train.GradientDescentOptimizer(0.001).minimize(cross_entropy)"
   ]
  },
  {
   "cell_type": "code",
   "execution_count": 34,
   "metadata": {
    "collapsed": false,
    "nbpresent": {
     "id": "c92924a6-68f6-4b2a-9a9d-b935d36da40e"
    }
   },
   "outputs": [
    {
     "name": "stdout",
     "output_type": "stream",
     "text": [
      "test.acc=0.3340\n",
      "test.acc=0.7140\n",
      "test.acc=0.7400\n",
      "test.acc=0.7660\n",
      "test.acc=0.7900\n",
      "test.acc=0.8040\n",
      "test.acc=0.8120\n",
      "test.acc=0.8200\n",
      "test.acc=0.8280\n",
      "test.acc=0.8280\n",
      "test.acc=0.8340\n",
      "test.acc=0.8360\n",
      "test.acc=0.8400\n",
      "test.acc=0.8440\n",
      "test.acc=0.8440\n",
      "test.acc=0.8480\n",
      "test.acc=0.8500\n",
      "test.acc=0.8500\n",
      "test.acc=0.8520\n",
      "test.acc=0.8520\n"
     ]
    }
   ],
   "source": [
    "import numpy as np\n",
    "\n",
    "train_accuracies = []\n",
    "test_accuracies = []\n",
    "\n",
    "for i in range(20000):\n",
    "    random_indices = np.random.choice(x_train.shape[0], 100, replace=False)\n",
    "    batch = x_train[random_indices], t_train[random_indices]\n",
    "    train_step.run(feed_dict={x: batch[0], y_: batch[1]})\n",
    "    if i % 1000 == 0:\n",
    "        correct_prediction = tf.equal(tf.argmax(y, 1), tf.argmax(y_, 1))\n",
    "        accuracy = tf.reduce_mean(tf.cast(correct_prediction, tf.float32))\n",
    "        train_accuracies += [accuracy.eval(feed_dict={x: x_train, y_: t_train})]\n",
    "        test_accuracies += [accuracy.eval(feed_dict={x: x_test, y_: t_test})]\n",
    "        print(\"test.acc=%.4f\" % test_accuracies[-1])"
   ]
  },
  {
   "cell_type": "code",
   "execution_count": 35,
   "metadata": {
    "collapsed": false,
    "nbpresent": {
     "id": "a1e6cfc6-e873-40ef-8dae-2bac46c0d90c"
    }
   },
   "outputs": [
    {
     "data": {
      "image/png": "[encoded data removed]",
      "text/plain": [
       "<matplotlib.figure.Figure at 0x11e995208>"
      ]
     },
     "metadata": {},
     "output_type": "display_data"
    }
   ],
   "source": [
    "plt.figure()\n",
    "plt.plot(train_accuracies, label=\"Train\")\n",
    "plt.plot(test_accuracies, label=\"Test\")\n",
    "plt.legend(loc=0)\n",
    "plt.show()"
   ]
  },
  {
   "cell_type": "markdown",
   "metadata": {},
   "source": [
    "## Higher abstractions?"
   ]
  },
  {
   "cell_type": "code",
   "execution_count": null,
   "metadata": {
    "collapsed": true
   },
   "outputs": [],
   "source": []
  }
 ],
 "metadata": {
  "anaconda-cloud": {},
  "kernelspec": {
   "display_name": "Python [conda env:python3]",
   "language": "python",
   "name": "conda-env-python3-py"
  },
  "language_info": {
   "codemirror_mode": {
    "name": "ipython",
    "version": 3
   },
   "file_extension": ".py",
   "mimetype": "text/x-python",
   "name": "python",
   "nbconvert_exporter": "python",
   "pygments_lexer": "ipython3",
   "version": "3.5.2"
  }
 },
 "nbformat": 4,
 "nbformat_minor": 1
}
